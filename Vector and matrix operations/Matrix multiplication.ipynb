{
 "cells": [
  {
   "cell_type": "markdown",
   "id": "17b5647a",
   "metadata": {},
   "source": [
    "# Matrix multiplication"
   ]
  },
  {
   "cell_type": "code",
   "execution_count": 1,
   "id": "bad3689d",
   "metadata": {},
   "outputs": [
    {
     "name": "stdout",
     "output_type": "stream",
     "text": [
      "[[19, 48], [13, 40]]\n"
     ]
    }
   ],
   "source": [
    "a = [[1,4,6],\n",
    "     [3,2,4]]\n",
    "\n",
    "b = [[1,4],\n",
    "     [3,2],\n",
    "     [1,6]]\n",
    "\n",
    "# We create a cero matrix C\n",
    "\n",
    "c= [[0 for j in range(len(b[0]))] for i in range(len(a))]\n",
    "\n",
    "# We fill matrix c with the sum of the entries of alpha and matrix a\n",
    "for i in range(len(a)):\n",
    "    for j in range(len(b[0])):\n",
    "        element_i=0\n",
    "        for k in range(len(b)):\n",
    "            element_i += a[i][k] * b[k][j]\n",
    "        c[i][j] = element_i\n",
    "\n",
    "print(c)"
   ]
  },
  {
   "cell_type": "code",
   "execution_count": 3,
   "id": "c629cb5c",
   "metadata": {},
   "outputs": [
    {
     "name": "stdout",
     "output_type": "stream",
     "text": [
      "[[19 48]\n",
      " [13 40]]\n"
     ]
    }
   ],
   "source": [
    "# Using the dot product\n",
    "import numpy as np\n",
    "\n",
    "a = np.array(a)\n",
    "b = np.array(b)\n",
    "\n",
    "c= np.array([[0 for j in range(len(b[0]))] for i in range(len(a))])\n",
    "\n",
    "\n",
    "for i in range(len(a)):\n",
    "    for j in range(len(b[0])):\n",
    "        c[i,j]=np.dot(a[i], b[:,j])\n",
    "        \n",
    "print(c)"
   ]
  },
  {
   "cell_type": "code",
   "execution_count": 4,
   "id": "ec05cbbe",
   "metadata": {},
   "outputs": [
    {
     "data": {
      "text/plain": [
       "array([[19, 48],\n",
       "       [13, 40]])"
      ]
     },
     "execution_count": 4,
     "metadata": {},
     "output_type": "execute_result"
    }
   ],
   "source": [
    "# A function\n",
    "\n",
    "import numpy as np\n",
    "\n",
    "def matrix_mult(A,B):\n",
    "    c= np.array([[0 for j in range(len(b[0]))] for i in range(len(a))])\n",
    "    for i in range(len(A)):\n",
    "        for j in range(len(B[0])):\n",
    "            c[i,j]=np.dot(A[i], B[:,j])\n",
    "    return c\n",
    "\n",
    "matrix_mult(a,b)"
   ]
  },
  {
   "cell_type": "code",
   "execution_count": 5,
   "id": "a0f0b66b",
   "metadata": {},
   "outputs": [
    {
     "data": {
      "text/plain": [
       "array([[19, 48],\n",
       "       [13, 40]])"
      ]
     },
     "execution_count": 5,
     "metadata": {},
     "output_type": "execute_result"
    }
   ],
   "source": [
    "# A function using numpy\n",
    "\n",
    "def matrix_mult(A,B):\n",
    "    return np.matmul(A,B)\n",
    "\n",
    "matrix_mult(a,b)"
   ]
  },
  {
   "cell_type": "code",
   "execution_count": null,
   "id": "6f7a358b",
   "metadata": {},
   "outputs": [],
   "source": []
  }
 ],
 "metadata": {
  "kernelspec": {
   "display_name": "Python 3 (ipykernel)",
   "language": "python",
   "name": "python3"
  },
  "language_info": {
   "codemirror_mode": {
    "name": "ipython",
    "version": 3
   },
   "file_extension": ".py",
   "mimetype": "text/x-python",
   "name": "python",
   "nbconvert_exporter": "python",
   "pygments_lexer": "ipython3",
   "version": "3.8.13"
  }
 },
 "nbformat": 4,
 "nbformat_minor": 5
}
