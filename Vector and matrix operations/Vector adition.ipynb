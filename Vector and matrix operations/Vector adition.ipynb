{
 "cells": [
  {
   "cell_type": "markdown",
   "metadata": {},
   "source": [
    "# Vector adition"
   ]
  },
  {
   "cell_type": "code",
   "execution_count": 1,
   "metadata": {},
   "outputs": [
    {
     "name": "stdout",
     "output_type": "stream",
     "text": [
      "Vector a =  [3, 5, -5, 8]\n",
      "Vector b =  [4, 7, 9, -4]\n",
      "Vector Addition =  [7, 12, 4, 4]\n"
     ]
    }
   ],
   "source": [
    "#Vectors in Linear Algebra\n",
    "\n",
    "a = [3, 5, -5, 8]\n",
    "b = [4, 7, 9, -4]\n",
    "\n",
    "print(\"Vector a = \", a)\n",
    "print(\"Vector b = \", b)\n",
    "\n",
    "\n",
    "# We can add directly\n",
    "suma = []\n",
    "for i in range(len(a)):\n",
    "    suma.append(a[i] + b[i])\n",
    "\n",
    "print(\"Vector Addition = \",suma)"
   ]
  },
  {
   "cell_type": "code",
   "execution_count": 2,
   "metadata": {},
   "outputs": [
    {
     "data": {
      "text/plain": [
       "[7, 12, 4, 4]"
      ]
     },
     "execution_count": 2,
     "metadata": {},
     "output_type": "execute_result"
    }
   ],
   "source": [
    "# We can create a fuction\n",
    "\n",
    "def vector_sum(a,b):\n",
    "    sume = []\n",
    "    for i in range(len(a)):\n",
    "        sume.append(a[i]+b[i])\n",
    "    return sume\n",
    "\n",
    "vector_sum(a,b)"
   ]
  },
  {
   "cell_type": "code",
   "execution_count": 3,
   "metadata": {},
   "outputs": [
    {
     "data": {
      "text/plain": [
       "[7, 12, 4, 4]"
      ]
     },
     "execution_count": 3,
     "metadata": {},
     "output_type": "execute_result"
    }
   ],
   "source": [
    "# Another option\n",
    "\n",
    "def vec_addition(a,b):\n",
    "    return [a[i]+b[i] for i in range(len(a))]\n",
    "\n",
    "vec_addition(a,b)"
   ]
  },
  {
   "cell_type": "code",
   "execution_count": 7,
   "metadata": {},
   "outputs": [
    {
     "data": {
      "text/plain": [
       "array([ 7, 12,  4,  4])"
      ]
     },
     "execution_count": 7,
     "metadata": {},
     "output_type": "execute_result"
    }
   ],
   "source": [
    "# We can use numpy\n",
    "import numpy as np\n",
    "\n",
    "a = np.array(a)\n",
    "b = np.array(b)\n",
    "\n",
    "a + b"
   ]
  },
  {
   "cell_type": "code",
   "execution_count": null,
   "metadata": {},
   "outputs": [],
   "source": []
  }
 ],
 "metadata": {
  "kernelspec": {
   "display_name": "Python 3 (ipykernel)",
   "language": "python",
   "name": "python3"
  },
  "language_info": {
   "codemirror_mode": {
    "name": "ipython",
    "version": 3
   },
   "file_extension": ".py",
   "mimetype": "text/x-python",
   "name": "python",
   "nbconvert_exporter": "python",
   "pygments_lexer": "ipython3",
   "version": "3.8.13"
  }
 },
 "nbformat": 4,
 "nbformat_minor": 4
}
