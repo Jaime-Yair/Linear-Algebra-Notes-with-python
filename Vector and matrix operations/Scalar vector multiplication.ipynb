{
 "cells": [
  {
   "cell_type": "markdown",
   "metadata": {},
   "source": [
    "# Scalar vector multiplication"
   ]
  },
  {
   "cell_type": "code",
   "execution_count": 1,
   "metadata": {},
   "outputs": [
    {
     "name": "stdout",
     "output_type": "stream",
     "text": [
      "[6, 10, -10, 16]\n"
     ]
    }
   ],
   "source": [
    "a = [3, 5, -5, 8]\n",
    "scalar=2\n",
    "\n",
    "s_v_multiplication = []\n",
    "\n",
    "\n",
    "# We can multiply directly\n",
    "\n",
    "for i in range(len(a)):\n",
    "    s_v_multiplication.append(scalar*a[i])\n",
    "print(s_v_multiplication)"
   ]
  },
  {
   "cell_type": "code",
   "execution_count": 2,
   "metadata": {},
   "outputs": [
    {
     "data": {
      "text/plain": [
       "[6, 10, -10, 16]"
      ]
     },
     "execution_count": 2,
     "metadata": {},
     "output_type": "execute_result"
    }
   ],
   "source": [
    "# A function\n",
    "\n",
    "def s_v_multiplication(scalar, vector):\n",
    "    return [scalar*vector[i] for i in range(len(vector))]\n",
    "\n",
    "s_v_multiplication(scalar, a)"
   ]
  },
  {
   "cell_type": "code",
   "execution_count": 3,
   "metadata": {},
   "outputs": [
    {
     "data": {
      "text/plain": [
       "array([  6,  10, -10,  16])"
      ]
     },
     "execution_count": 3,
     "metadata": {},
     "output_type": "execute_result"
    }
   ],
   "source": [
    "# We can use numpy\n",
    "import numpy as np\n",
    "scalar*np.array(a)"
   ]
  },
  {
   "cell_type": "code",
   "execution_count": 4,
   "metadata": {},
   "outputs": [],
   "source": [
    "#https://integratedmlai.com/basic-linear-algebra-tools-in-pure-python-without-numpy-or-scipy/"
   ]
  }
 ],
 "metadata": {
  "kernelspec": {
   "display_name": "Python 3 (ipykernel)",
   "language": "python",
   "name": "python3"
  },
  "language_info": {
   "codemirror_mode": {
    "name": "ipython",
    "version": 3
   },
   "file_extension": ".py",
   "mimetype": "text/x-python",
   "name": "python",
   "nbconvert_exporter": "python",
   "pygments_lexer": "ipython3",
   "version": "3.8.13"
  }
 },
 "nbformat": 4,
 "nbformat_minor": 4
}
