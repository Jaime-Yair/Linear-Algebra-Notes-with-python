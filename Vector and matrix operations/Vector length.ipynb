{
 "cells": [
  {
   "cell_type": "markdown",
   "id": "4e92c928",
   "metadata": {},
   "source": [
    "# Vector length"
   ]
  },
  {
   "cell_type": "code",
   "execution_count": 3,
   "id": "37680631",
   "metadata": {},
   "outputs": [],
   "source": [
    "import numpy as np"
   ]
  },
  {
   "cell_type": "code",
   "execution_count": 4,
   "id": "eea961f8",
   "metadata": {},
   "outputs": [
    {
     "data": {
      "text/plain": [
       "7.416198487095663"
      ]
     },
     "execution_count": 4,
     "metadata": {},
     "output_type": "execute_result"
    }
   ],
   "source": [
    "x = [1,2,3,4,5]\n",
    "\n",
    "np.sqrt(sum(x[i]**2 for i in range(len(x))))"
   ]
  },
  {
   "cell_type": "code",
   "execution_count": 5,
   "id": "3fa6ddb4",
   "metadata": {},
   "outputs": [
    {
     "data": {
      "text/plain": [
       "7.416198487095663"
      ]
     },
     "execution_count": 5,
     "metadata": {},
     "output_type": "execute_result"
    }
   ],
   "source": [
    "# a function\n",
    "def v_length(x):\n",
    "    return np.sqrt(sum(x[i]**2 for i in range(len(x))))\n",
    "\n",
    "v_length(x)"
   ]
  },
  {
   "cell_type": "code",
   "execution_count": 6,
   "id": "6933d7cf",
   "metadata": {},
   "outputs": [
    {
     "data": {
      "text/plain": [
       "7.416198487095663"
      ]
     },
     "execution_count": 6,
     "metadata": {},
     "output_type": "execute_result"
    }
   ],
   "source": [
    "#Using numpy\n",
    "import numpy as np\n",
    "\n",
    "np.linalg.norm(x)"
   ]
  },
  {
   "cell_type": "code",
   "execution_count": null,
   "id": "0b6a54f2",
   "metadata": {},
   "outputs": [],
   "source": []
  }
 ],
 "metadata": {
  "kernelspec": {
   "display_name": "Python 3 (ipykernel)",
   "language": "python",
   "name": "python3"
  },
  "language_info": {
   "codemirror_mode": {
    "name": "ipython",
    "version": 3
   },
   "file_extension": ".py",
   "mimetype": "text/x-python",
   "name": "python",
   "nbconvert_exporter": "python",
   "pygments_lexer": "ipython3",
   "version": "3.8.13"
  }
 },
 "nbformat": 4,
 "nbformat_minor": 5
}
