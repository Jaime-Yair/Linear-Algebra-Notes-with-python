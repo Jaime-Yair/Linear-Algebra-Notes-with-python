{
 "cells": [
  {
   "cell_type": "markdown",
   "id": "e1f00961",
   "metadata": {},
   "source": [
    "# Zero matrix"
   ]
  },
  {
   "cell_type": "code",
   "execution_count": 32,
   "id": "c1f6483d",
   "metadata": {},
   "outputs": [
    {
     "data": {
      "text/plain": [
       "[[0, 0, 0], [0, 0, 0], [0, 0, 0], [0, 0, 0]]"
      ]
     },
     "execution_count": 32,
     "metadata": {},
     "output_type": "execute_result"
    }
   ],
   "source": [
    "# A function\n",
    "\n",
    "def zero_matrix(rows, cols):\n",
    "    Z = [[0 for j in range(cols)] for i in range(rows)]\n",
    "    return Z\n",
    "\n",
    "\n",
    "zero_matrix(4, 3)"
   ]
  },
  {
   "cell_type": "code",
   "execution_count": 35,
   "id": "a288effc",
   "metadata": {},
   "outputs": [
    {
     "data": {
      "text/plain": [
       "array([[0., 0., 0.],\n",
       "       [0., 0., 0.],\n",
       "       [0., 0., 0.],\n",
       "       [0., 0., 0.]])"
      ]
     },
     "execution_count": 35,
     "metadata": {},
     "output_type": "execute_result"
    }
   ],
   "source": [
    "# Using numpy\n",
    "\n",
    "import numpy as np\n",
    "\n",
    "np.zeros((4,3))"
   ]
  }
 ],
 "metadata": {
  "kernelspec": {
   "display_name": "Python 3 (ipykernel)",
   "language": "python",
   "name": "python3"
  },
  "language_info": {
   "codemirror_mode": {
    "name": "ipython",
    "version": 3
   },
   "file_extension": ".py",
   "mimetype": "text/x-python",
   "name": "python",
   "nbconvert_exporter": "python",
   "pygments_lexer": "ipython3",
   "version": "3.8.13"
  }
 },
 "nbformat": 4,
 "nbformat_minor": 5
}
