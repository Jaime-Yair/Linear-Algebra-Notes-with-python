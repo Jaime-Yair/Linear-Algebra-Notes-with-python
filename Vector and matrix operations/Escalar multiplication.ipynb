{
 "cells": [
  {
   "cell_type": "markdown",
   "id": "c3cfae17",
   "metadata": {},
   "source": [
    "# Escalar multiplication"
   ]
  },
  {
   "cell_type": "code",
   "execution_count": 5,
   "id": "9656e4f3",
   "metadata": {},
   "outputs": [
    {
     "data": {
      "text/plain": [
       "[[3, 6, 9], [12, 15, 18]]"
      ]
     },
     "execution_count": 5,
     "metadata": {},
     "output_type": "execute_result"
    }
   ],
   "source": [
    "a = [[1,2,3],\n",
    "     [4,5,6]]\n",
    "\n",
    "alpha = 3\n",
    "\n",
    "# We create a cero matrix C\n",
    "\n",
    "c = [[0 for j in range(len(a[0]))] for i in range(len(a))]\n",
    "\n",
    "# We fill matrix c with the sum of the entries of alpha and matrix a\n",
    "\n",
    "for i in range(len(a)):\n",
    "    for j in range(len(a[0])):\n",
    "        c[i][j]=alpha*a[i][j]\n",
    "        \n",
    "c"
   ]
  },
  {
   "cell_type": "code",
   "execution_count": 6,
   "id": "de686a98",
   "metadata": {},
   "outputs": [
    {
     "data": {
      "text/plain": [
       "[[3, 6, 9], [12, 15, 18]]"
      ]
     },
     "execution_count": 6,
     "metadata": {},
     "output_type": "execute_result"
    }
   ],
   "source": [
    "# A function\n",
    "\n",
    "def matrix_addition(A,alpha):\n",
    "    c = [[0 for j in range(len(A[0]))] for i in range(len(A))]\n",
    "    \n",
    "    for i in range(len(A)):\n",
    "        for j in range(len(A[0])):\n",
    "            c[i][j]=alpha*A[i][j]\n",
    "    \n",
    "    return c\n",
    "\n",
    "matrix_addition(a,alpha)"
   ]
  },
  {
   "cell_type": "code",
   "execution_count": 7,
   "id": "9fdc7470",
   "metadata": {},
   "outputs": [
    {
     "data": {
      "text/plain": [
       "array([[ 3,  6,  9],\n",
       "       [12, 15, 18]])"
      ]
     },
     "execution_count": 7,
     "metadata": {},
     "output_type": "execute_result"
    }
   ],
   "source": [
    "# Using numpy\n",
    "import numpy as np\n",
    "a = np.array(a)\n",
    "\n",
    "alpha*a"
   ]
  }
 ],
 "metadata": {
  "kernelspec": {
   "display_name": "Python 3 (ipykernel)",
   "language": "python",
   "name": "python3"
  },
  "language_info": {
   "codemirror_mode": {
    "name": "ipython",
    "version": 3
   },
   "file_extension": ".py",
   "mimetype": "text/x-python",
   "name": "python",
   "nbconvert_exporter": "python",
   "pygments_lexer": "ipython3",
   "version": "3.8.13"
  }
 },
 "nbformat": 4,
 "nbformat_minor": 5
}
