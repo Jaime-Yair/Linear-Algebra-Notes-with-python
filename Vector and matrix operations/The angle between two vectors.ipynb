{
 "cells": [
  {
   "cell_type": "markdown",
   "id": "2b0461db",
   "metadata": {},
   "source": [
    "# The angle between two vectors"
   ]
  },
  {
   "cell_type": "code",
   "execution_count": 1,
   "id": "101fe455",
   "metadata": {},
   "outputs": [],
   "source": [
    "a = [1, 2]\n",
    "b = [3, 4]"
   ]
  },
  {
   "cell_type": "code",
   "execution_count": 4,
   "id": "85cbb94a",
   "metadata": {},
   "outputs": [
    {
     "data": {
      "text/plain": [
       "0.17985349979247847"
      ]
     },
     "execution_count": 4,
     "metadata": {},
     "output_type": "execute_result"
    }
   ],
   "source": [
    "# We use a function for the dot product and the length of a vector\n",
    "import numpy as np\n",
    "\n",
    "def dot(v1, v2):\n",
    "    return sum(v1[i]*v2[i] for i in range(len(v1)))\n",
    "\n",
    "def v_length(x):\n",
    "    return np.sqrt(sum(x[i]**2 for i in range(len(x))))\n",
    "\n",
    "\n",
    "# the angle between two vectors\n",
    "\n",
    "def angle(x,y):\n",
    "    return np.arccos(dot(x,y)/(v_length(x)*v_length(y)))\n",
    "\n",
    "angle(a,b)"
   ]
  },
  {
   "cell_type": "code",
   "execution_count": 5,
   "id": "b0e7a3c4",
   "metadata": {},
   "outputs": [
    {
     "data": {
      "text/plain": [
       "0.17985349979247847"
      ]
     },
     "execution_count": 5,
     "metadata": {},
     "output_type": "execute_result"
    }
   ],
   "source": [
    "# Usig numpy\n",
    "\n",
    "def angle(x,y):\n",
    "    return np.arccos(np.dot(x,y)/(np.linalg.norm(x)*np.linalg.norm(y)))\n",
    "\n",
    "angle(a,b)"
   ]
  },
  {
   "cell_type": "code",
   "execution_count": 3,
   "id": "b9ed9034",
   "metadata": {},
   "outputs": [],
   "source": [
    "# all the above results are in radians"
   ]
  },
  {
   "cell_type": "code",
   "execution_count": null,
   "id": "5aa96244",
   "metadata": {},
   "outputs": [],
   "source": []
  }
 ],
 "metadata": {
  "kernelspec": {
   "display_name": "Python 3 (ipykernel)",
   "language": "python",
   "name": "python3"
  },
  "language_info": {
   "codemirror_mode": {
    "name": "ipython",
    "version": 3
   },
   "file_extension": ".py",
   "mimetype": "text/x-python",
   "name": "python",
   "nbconvert_exporter": "python",
   "pygments_lexer": "ipython3",
   "version": "3.8.13"
  }
 },
 "nbformat": 4,
 "nbformat_minor": 5
}
